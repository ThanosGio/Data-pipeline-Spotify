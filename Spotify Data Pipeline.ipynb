{
 "cells": [
  {
   "cell_type": "code",
   "execution_count": 4,
   "id": "ae83965a-020f-4980-9fc7-4f420f7e67ce",
   "metadata": {
    "tags": []
   },
   "outputs": [
    {
     "name": "stdout",
     "output_type": "stream",
     "text": [
      "Collecting spotipy\n",
      "  Obtaining dependency information for spotipy from https://files.pythonhosted.org/packages/ea/35/304e456a471128aa4a776243558f43aee3444731ef8fc9bc8c351fddfdd8/spotipy-2.24.0-py3-none-any.whl.metadata\n",
      "  Downloading spotipy-2.24.0-py3-none-any.whl.metadata (4.9 kB)\n",
      "Collecting redis>=3.5.3 (from spotipy)\n",
      "  Obtaining dependency information for redis>=3.5.3 from https://files.pythonhosted.org/packages/fd/d6/37ba7502c5144c93e2e63c81fbfd69c8b97c275328eb85734ce996d3dc13/redis-5.1.0-py3-none-any.whl.metadata\n",
      "  Downloading redis-5.1.0-py3-none-any.whl.metadata (9.1 kB)\n",
      "Requirement already satisfied: requests>=2.25.0 in c:\\users\\gyard\\anaconda3\\envs\\myenv\\lib\\site-packages (from spotipy) (2.31.0)\n",
      "Requirement already satisfied: urllib3>=1.26.0 in c:\\users\\gyard\\anaconda3\\envs\\myenv\\lib\\site-packages (from spotipy) (1.26.16)\n",
      "Requirement already satisfied: async-timeout>=4.0.3 in c:\\users\\gyard\\anaconda3\\envs\\myenv\\lib\\site-packages (from redis>=3.5.3->spotipy) (4.0.3)\n",
      "Requirement already satisfied: charset-normalizer<4,>=2 in c:\\users\\gyard\\anaconda3\\envs\\myenv\\lib\\site-packages (from requests>=2.25.0->spotipy) (2.0.4)\n",
      "Requirement already satisfied: idna<4,>=2.5 in c:\\users\\gyard\\anaconda3\\envs\\myenv\\lib\\site-packages (from requests>=2.25.0->spotipy) (3.4)\n",
      "Requirement already satisfied: certifi>=2017.4.17 in c:\\users\\gyard\\anaconda3\\envs\\myenv\\lib\\site-packages (from requests>=2.25.0->spotipy) (2023.7.22)\n",
      "Downloading spotipy-2.24.0-py3-none-any.whl (30 kB)\n",
      "Downloading redis-5.1.0-py3-none-any.whl (261 kB)\n",
      "   ---------------------------------------- 0.0/261.2 kB ? eta -:--:--\n",
      "   ---- ----------------------------------- 30.7/261.2 kB 1.3 MB/s eta 0:00:01\n",
      "   --------- ----------------------------- 61.4/261.2 kB 656.4 kB/s eta 0:00:01\n",
      "   ------------- ------------------------- 92.2/261.2 kB 655.4 kB/s eta 0:00:01\n",
      "   ----------------- -------------------- 122.9/261.2 kB 722.1 kB/s eta 0:00:01\n",
      "   ------------------------- ------------ 174.1/261.2 kB 748.1 kB/s eta 0:00:01\n",
      "   ---------------------------- --------- 194.6/261.2 kB 787.7 kB/s eta 0:00:01\n",
      "   -------------------------------- ----- 225.3/261.2 kB 765.3 kB/s eta 0:00:01\n",
      "   ---------------------------------- --- 235.5/261.2 kB 654.9 kB/s eta 0:00:01\n",
      "   -------------------------------------- 261.2/261.2 kB 618.2 kB/s eta 0:00:00\n",
      "Installing collected packages: redis, spotipy\n",
      "Successfully installed redis-5.1.0 spotipy-2.24.0\n"
     ]
    },
    {
     "name": "stderr",
     "output_type": "stream",
     "text": [
      "WARNING: Ignoring invalid distribution -pencv-python (c:\\users\\gyard\\anaconda3\\envs\\myenv\\lib\\site-packages)\n",
      "WARNING: Ignoring invalid distribution -pencv-python (c:\\users\\gyard\\anaconda3\\envs\\myenv\\lib\\site-packages)\n"
     ]
    }
   ],
   "source": [
    "!pip install spotipy"
   ]
  },
  {
   "cell_type": "code",
   "execution_count": 5,
   "id": "c5f61676-074a-4195-b0bc-c4bdc76d5fc0",
   "metadata": {
    "tags": []
   },
   "outputs": [],
   "source": [
    "import spotipy\n",
    "from spotipy.oauth2 import SpotifyClientCredentials\n"
   ]
  },
  {
   "cell_type": "code",
   "execution_count": 6,
   "id": "4e028879-42f8-4e52-a225-2d91a9b28b46",
   "metadata": {
    "tags": []
   },
   "outputs": [],
   "source": [
    "client_credentials_manager = SpotifyClientCredentials(client_id = \"882978752ba44902beaf5c18f0e899d8\" , client_secret=\"5a214bd054de4e0a9bae15081938299f\")"
   ]
  },
  {
   "cell_type": "code",
   "execution_count": 8,
   "id": "4ff11111-8bac-4c42-b758-d8cfdbdeb8af",
   "metadata": {
    "tags": []
   },
   "outputs": [],
   "source": [
    "#create object\n",
    "sp= spotipy.Spotify(client_credentials_manager=client_credentials_manager)"
   ]
  },
  {
   "cell_type": "code",
   "execution_count": 9,
   "id": "613f0da0-8c99-4de4-a6a4-52c6725fbb47",
   "metadata": {
    "tags": []
   },
   "outputs": [],
   "source": [
    "#Extract top 100 songs from spotify\n",
    "playlist_link= \"https://open.spotify.com/playlist/4hOKQuZbraPDIfaGbM3lKI\"\n"
   ]
  },
  {
   "cell_type": "code",
   "execution_count": 14,
   "id": "476ef30f-84dd-447c-b91b-c2b420352e67",
   "metadata": {
    "tags": []
   },
   "outputs": [
    {
     "name": "stdout",
     "output_type": "stream",
     "text": [
      "4hOKQuZbraPDIfaGbM3lKI\n"
     ]
    }
   ],
   "source": [
    "playlist_URI=playlist_link.split(\"/\")[-1]\n",
    "print(playlist_URI)"
   ]
  },
  {
   "cell_type": "code",
   "execution_count": 16,
   "id": "1da1f88c-deda-4eee-8bd2-47452641947a",
   "metadata": {
    "tags": []
   },
   "outputs": [],
   "source": [
    "data=sp.playlist_tracks(playlist_URI)\n"
   ]
  },
  {
   "cell_type": "code",
   "execution_count": 24,
   "id": "99bdd043-bc9d-40f3-b0ab-850ae15cdefa",
   "metadata": {
    "tags": []
   },
   "outputs": [
    {
     "data": {
      "text/plain": [
       "'3smvpv7CdrhVcGYaNDLOqn'"
      ]
     },
     "execution_count": 24,
     "metadata": {},
     "output_type": "execute_result"
    }
   ],
   "source": [
    "#information is stored in items of json\n",
    "data['items'][0]['track']['album']['id']"
   ]
  },
  {
   "cell_type": "code",
   "execution_count": 25,
   "id": "93ac4100-9b10-47f3-9277-403cb76707ec",
   "metadata": {
    "tags": []
   },
   "outputs": [
    {
     "data": {
      "text/plain": [
       "'Despacito Feat. Justin Bieber (Remix)'"
      ]
     },
     "execution_count": 25,
     "metadata": {},
     "output_type": "execute_result"
    }
   ],
   "source": [
    "data['items'][0]['track']['album']['name']"
   ]
  },
  {
   "cell_type": "code",
   "execution_count": 26,
   "id": "4690dc04-6acf-4a07-bb59-f46fe6562767",
   "metadata": {
    "tags": []
   },
   "outputs": [
    {
     "data": {
      "text/plain": [
       "'2017-04-17'"
      ]
     },
     "execution_count": 26,
     "metadata": {},
     "output_type": "execute_result"
    }
   ],
   "source": [
    "data['items'][0]['track']['album']['release_date']"
   ]
  },
  {
   "cell_type": "code",
   "execution_count": 27,
   "id": "b09408b2-7ec1-40b4-838f-d49a2e530eaf",
   "metadata": {
    "tags": []
   },
   "outputs": [
    {
     "data": {
      "text/plain": [
       "1"
      ]
     },
     "execution_count": 27,
     "metadata": {},
     "output_type": "execute_result"
    }
   ],
   "source": [
    "data['items'][0]['track']['album']['total_tracks']"
   ]
  },
  {
   "cell_type": "code",
   "execution_count": 28,
   "id": "50624af7-1403-4a38-838c-7a08a3aede6a",
   "metadata": {
    "tags": []
   },
   "outputs": [
    {
     "data": {
      "text/plain": [
       "{'spotify': 'https://open.spotify.com/album/3smvpv7CdrhVcGYaNDLOqn'}"
      ]
     },
     "execution_count": 28,
     "metadata": {},
     "output_type": "execute_result"
    }
   ],
   "source": [
    "data['items'][0]['track']['album']['external_urls']"
   ]
  },
  {
   "cell_type": "code",
   "execution_count": 29,
   "id": "79e57fc0-ea87-4b29-8d7d-a77eb407fc5d",
   "metadata": {
    "tags": []
   },
   "outputs": [
    {
     "data": {
      "text/plain": [
       "{'spotify': 'https://open.spotify.com/album/3smvpv7CdrhVcGYaNDLOqn'}"
      ]
     },
     "execution_count": 29,
     "metadata": {},
     "output_type": "execute_result"
    }
   ],
   "source": [
    "data['items'][0]['track']['album']['external_urls']"
   ]
  },
  {
   "cell_type": "code",
   "execution_count": 31,
   "id": "4cc69cf0-d3ce-42c2-9f67-86308aceeea6",
   "metadata": {
    "tags": []
   },
   "outputs": [
    {
     "data": {
      "text/plain": [
       "'https://open.spotify.com/album/3smvpv7CdrhVcGYaNDLOqn'"
      ]
     },
     "execution_count": 31,
     "metadata": {},
     "output_type": "execute_result"
    }
   ],
   "source": [
    "data['items'][0]['track']['album']['external_urls']['spotify']"
   ]
  },
  {
   "cell_type": "code",
   "execution_count": 39,
   "id": "9ece350a-193a-4d39-bb7a-113584b5648a",
   "metadata": {
    "collapsed": true,
    "jupyter": {
     "outputs_hidden": true
    },
    "tags": []
   },
   "outputs": [
    {
     "name": "stdout",
     "output_type": "stream",
     "text": [
      "Despacito Feat. Justin Bieber (Remix)\n",
      "I'm the One\n",
      "÷ (Deluxe)\n",
      "DAMN.\n",
      "FUTURE\n",
      "Memories...Do Not Open\n",
      "Stay\n",
      "It Ain't Me (with Selena Gomez)\n",
      "Swalla (feat. Nicki Minaj & Ty Dolla $ign)\n",
      "Malibu\n",
      "Illuminate (Deluxe)\n",
      "24K Magic\n",
      "Symphony (feat. Zara Larsson)\n",
      "Despacito (Featuring Daddy Yankee)\n",
      "Attention\n",
      "More Life\n",
      "Harry Styles\n",
      "XO TOUR Llif3\n",
      "First Time\n",
      "Felices los 4\n",
      "Unforgettable\n",
      "DAMN.\n",
      "Issues\n",
      "Scared to Be Lonely\n",
      "÷ (Deluxe)\n",
      "Slide (feat. Frank Ocean & Migos)\n",
      "Stoney - Deluxe\n",
      "No Promises (feat. Demi Lovato)\n",
      "Everybody\n",
      "Thunder\n",
      "SUBEME LA RADIO (feat. Descemer Bueno & Zion & Lennox)\n",
      "Pretty Girl (Cheat Codes X CADE Remix)\n",
      "Me Rehúso\n",
      "The Cure\n",
      "iSpy (feat. Lil Yachty)\n",
      "Good Life (with G-Eazy & Kehlani)\n",
      "Now Or Never\n",
      "Believer\n",
      "American Teen\n",
      "Rockabye (feat. Sean Paul & Anne-Marie)\n",
      "Memories...Do Not Open\n",
      "Call On Me (Remixes)\n",
      "Rollin (feat. Future & Khalid)\n",
      "I Don’t Wanna Live Forever (Fifty Shades Darker)\n",
      "Cold\n",
      "DAMN.\n",
      "Starboy\n",
      "Fénix\n",
      "You Don't Know Me\n",
      "Slow Hands\n",
      "Solo Dance\n",
      "Bon Appétit\n",
      "Escápate Conmigo (feat. Ozuna)\n",
      "Back from the Edge\n",
      "More Life\n",
      "DAMN.\n",
      "Ahora Dice\n",
      "Strange Trails\n",
      "Tuesday (feat. Danelle Sandoval)\n",
      "Hey Ma (with Pitbull & J Balvin feat. Camila Cabello)\n",
      "Harry Styles\n",
      "Closer\n",
      "÷ (Deluxe)\n",
      "Painting Pictures\n",
      "Still Got Time (feat. PARTYNEXTDOOR)\n",
      "DAMN.\n",
      "Most Girls\n",
      "Chantaje\n",
      "Birds In The Trap Sing McKnight\n",
      "Starboy\n",
      "HNDRXX\n",
      "Energía\n",
      "÷ (Deluxe)\n",
      "Culture\n",
      "Views\n",
      "Body Like A Back Road\n",
      "September Song\n",
      "Hey DJ\n",
      "Chained To The Rhythm\n",
      "More Life\n",
      "Memories...Do Not Open\n",
      "I Decided.\n",
      "Culture\n",
      "Encore\n",
      "Motivan2\n",
      "Glory Days (Deluxe)\n",
      "Look At Me!\n",
      "digital druglord\n",
      "La Rompe Corazones\n",
      "9\n",
      "No Vacancy\n",
      "HAIZ\n",
      "What Everyone's Thinking\n",
      "\"Awaken, My Love!\"\n",
      "Green Light\n",
      "24K Magic\n",
      "Tu Foto\n",
      "Culture\n",
      "Sola (Remix)\n",
      "Whippin (feat. Felix Snow)\n"
     ]
    }
   ],
   "source": [
    "#want to do for all albums now\n",
    "for row in data['items']:\n",
    "    album_id = row['track']['album']['id']\n",
    "    album_name = row['track']['album']['name']\n",
    "    album_release_date = row['track']['album']['release_date']\n",
    "    album_total_tracks = row['track']['album']['total_tracks']\n",
    "    album_url = row['track']['album']['external_urls']['spotify']\n",
    "    album_element = {'album_id' : album_id,'name' : album_name,'release_date': album_release_date,'total_tracks' : album_total_tracks,\n",
    "                    'url':album_url}"
   ]
  },
  {
   "cell_type": "code",
   "execution_count": null,
   "id": "b40ae08d-9a70-42e7-abf5-f8fb80371241",
   "metadata": {},
   "outputs": [],
   "source": []
  }
 ],
 "metadata": {
  "kernelspec": {
   "display_name": "Python 3 (ipykernel)",
   "language": "python",
   "name": "python3"
  },
  "language_info": {
   "codemirror_mode": {
    "name": "ipython",
    "version": 3
   },
   "file_extension": ".py",
   "mimetype": "text/x-python",
   "name": "python",
   "nbconvert_exporter": "python",
   "pygments_lexer": "ipython3",
   "version": "3.10.13"
  }
 },
 "nbformat": 4,
 "nbformat_minor": 5
}
