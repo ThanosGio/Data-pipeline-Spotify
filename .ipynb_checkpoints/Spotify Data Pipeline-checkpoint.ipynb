{
 "cells": [
  {
   "cell_type": "code",
   "execution_count": 4,
   "id": "ae83965a-020f-4980-9fc7-4f420f7e67ce",
   "metadata": {
    "tags": []
   },
   "outputs": [
    {
     "name": "stdout",
     "output_type": "stream",
     "text": [
      "Collecting spotipy\n",
      "  Obtaining dependency information for spotipy from https://files.pythonhosted.org/packages/ea/35/304e456a471128aa4a776243558f43aee3444731ef8fc9bc8c351fddfdd8/spotipy-2.24.0-py3-none-any.whl.metadata\n",
      "  Downloading spotipy-2.24.0-py3-none-any.whl.metadata (4.9 kB)\n",
      "Collecting redis>=3.5.3 (from spotipy)\n",
      "  Obtaining dependency information for redis>=3.5.3 from https://files.pythonhosted.org/packages/fd/d6/37ba7502c5144c93e2e63c81fbfd69c8b97c275328eb85734ce996d3dc13/redis-5.1.0-py3-none-any.whl.metadata\n",
      "  Downloading redis-5.1.0-py3-none-any.whl.metadata (9.1 kB)\n",
      "Requirement already satisfied: requests>=2.25.0 in c:\\users\\gyard\\anaconda3\\envs\\myenv\\lib\\site-packages (from spotipy) (2.31.0)\n",
      "Requirement already satisfied: urllib3>=1.26.0 in c:\\users\\gyard\\anaconda3\\envs\\myenv\\lib\\site-packages (from spotipy) (1.26.16)\n",
      "Requirement already satisfied: async-timeout>=4.0.3 in c:\\users\\gyard\\anaconda3\\envs\\myenv\\lib\\site-packages (from redis>=3.5.3->spotipy) (4.0.3)\n",
      "Requirement already satisfied: charset-normalizer<4,>=2 in c:\\users\\gyard\\anaconda3\\envs\\myenv\\lib\\site-packages (from requests>=2.25.0->spotipy) (2.0.4)\n",
      "Requirement already satisfied: idna<4,>=2.5 in c:\\users\\gyard\\anaconda3\\envs\\myenv\\lib\\site-packages (from requests>=2.25.0->spotipy) (3.4)\n",
      "Requirement already satisfied: certifi>=2017.4.17 in c:\\users\\gyard\\anaconda3\\envs\\myenv\\lib\\site-packages (from requests>=2.25.0->spotipy) (2023.7.22)\n",
      "Downloading spotipy-2.24.0-py3-none-any.whl (30 kB)\n",
      "Downloading redis-5.1.0-py3-none-any.whl (261 kB)\n",
      "   ---------------------------------------- 0.0/261.2 kB ? eta -:--:--\n",
      "   ---- ----------------------------------- 30.7/261.2 kB 1.3 MB/s eta 0:00:01\n",
      "   --------- ----------------------------- 61.4/261.2 kB 656.4 kB/s eta 0:00:01\n",
      "   ------------- ------------------------- 92.2/261.2 kB 655.4 kB/s eta 0:00:01\n",
      "   ----------------- -------------------- 122.9/261.2 kB 722.1 kB/s eta 0:00:01\n",
      "   ------------------------- ------------ 174.1/261.2 kB 748.1 kB/s eta 0:00:01\n",
      "   ---------------------------- --------- 194.6/261.2 kB 787.7 kB/s eta 0:00:01\n",
      "   -------------------------------- ----- 225.3/261.2 kB 765.3 kB/s eta 0:00:01\n",
      "   ---------------------------------- --- 235.5/261.2 kB 654.9 kB/s eta 0:00:01\n",
      "   -------------------------------------- 261.2/261.2 kB 618.2 kB/s eta 0:00:00\n",
      "Installing collected packages: redis, spotipy\n",
      "Successfully installed redis-5.1.0 spotipy-2.24.0\n"
     ]
    },
    {
     "name": "stderr",
     "output_type": "stream",
     "text": [
      "WARNING: Ignoring invalid distribution -pencv-python (c:\\users\\gyard\\anaconda3\\envs\\myenv\\lib\\site-packages)\n",
      "WARNING: Ignoring invalid distribution -pencv-python (c:\\users\\gyard\\anaconda3\\envs\\myenv\\lib\\site-packages)\n"
     ]
    }
   ],
   "source": [
    "!pip install spotipy"
   ]
  },
  {
   "cell_type": "code",
   "execution_count": 5,
   "id": "c5f61676-074a-4195-b0bc-c4bdc76d5fc0",
   "metadata": {
    "tags": []
   },
   "outputs": [],
   "source": [
    "import spotipy\n",
    "from spotipy.oauth2 import SpotifyClientCredentials\n"
   ]
  },
  {
   "cell_type": "code",
   "execution_count": 6,
   "id": "4e028879-42f8-4e52-a225-2d91a9b28b46",
   "metadata": {
    "tags": []
   },
   "outputs": [],
   "source": [
    "client_credentials_manager = SpotifyClientCredentials(client_id = \"882978752ba44902beaf5c18f0e899d8\" , client_secret=\"5a214bd054de4e0a9bae15081938299f\")"
   ]
  },
  {
   "cell_type": "code",
   "execution_count": 8,
   "id": "4ff11111-8bac-4c42-b758-d8cfdbdeb8af",
   "metadata": {
    "tags": []
   },
   "outputs": [],
   "source": [
    "#create object\n",
    "sp= spotipy.Spotify(client_credentials_manager=client_credentials_manager)"
   ]
  },
  {
   "cell_type": "code",
   "execution_count": null,
   "id": "613f0da0-8c99-4de4-a6a4-52c6725fbb47",
   "metadata": {},
   "outputs": [],
   "source": [
    "#Extract top 100 songs from spotify\n",
    "playlist_link= \"https://open.spotify.com/playlist/4hOKQuZbraPDIfaGbM3lKI\"\n"
   ]
  }
 ],
 "metadata": {
  "kernelspec": {
   "display_name": "Python 3 (ipykernel)",
   "language": "python",
   "name": "python3"
  },
  "language_info": {
   "codemirror_mode": {
    "name": "ipython",
    "version": 3
   },
   "file_extension": ".py",
   "mimetype": "text/x-python",
   "name": "python",
   "nbconvert_exporter": "python",
   "pygments_lexer": "ipython3",
   "version": "3.10.13"
  }
 },
 "nbformat": 4,
 "nbformat_minor": 5
}
